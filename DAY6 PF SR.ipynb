{
 "cells": [
  {
   "cell_type": "code",
   "execution_count": 1,
   "metadata": {},
   "outputs": [],
   "source": [
    "# continuation with List:-"
   ]
  },
  {
   "cell_type": "code",
   "execution_count": 2,
   "metadata": {},
   "outputs": [
    {
     "name": "stdout",
     "output_type": "stream",
     "text": [
      "['shiva', 'mujeeb', 'rishika', 'priyanka', 'naveen', 'kiran']\n"
     ]
    }
   ],
   "source": [
    "students=['shiva','mujeeb','rishika','priyanka','naveen','kiran']\n",
    "print(students)"
   ]
  },
  {
   "cell_type": "code",
   "execution_count": 3,
   "metadata": {},
   "outputs": [
    {
     "data": {
      "text/plain": [
       "list"
      ]
     },
     "execution_count": 3,
     "metadata": {},
     "output_type": "execute_result"
    }
   ],
   "source": [
    "type(students)"
   ]
  },
  {
   "cell_type": "code",
   "execution_count": 4,
   "metadata": {},
   "outputs": [],
   "source": [
    "#req:i want to appreciate all the above students for sending practice files:-"
   ]
  },
  {
   "cell_type": "code",
   "execution_count": 5,
   "metadata": {},
   "outputs": [
    {
     "name": "stdout",
     "output_type": "stream",
     "text": [
      "keep up the good work,Shiva\n"
     ]
    }
   ],
   "source": [
    "print(f\"keep up the good work,{students[0].title()}\")"
   ]
  },
  {
   "cell_type": "code",
   "execution_count": 6,
   "metadata": {},
   "outputs": [
    {
     "name": "stdout",
     "output_type": "stream",
     "text": [
      "keep up the good work,Mujeeb\n"
     ]
    }
   ],
   "source": [
    "print(f\"keep up the good work,{students[1].title()}\")"
   ]
  },
  {
   "cell_type": "code",
   "execution_count": 7,
   "metadata": {},
   "outputs": [],
   "source": [
    "#Introdution to for loops in python:-"
   ]
  },
  {
   "cell_type": "code",
   "execution_count": 8,
   "metadata": {},
   "outputs": [],
   "source": [
    "#general syntax of a for loop:"
   ]
  },
  {
   "cell_type": "code",
   "execution_count": 9,
   "metadata": {},
   "outputs": [],
   "source": [
    "#tempvar -> can be any name you want:-"
   ]
  },
  {
   "cell_type": "code",
   "execution_count": 10,
   "metadata": {},
   "outputs": [],
   "source": [
    "#students is the main variable for tempvar in mainvar:-"
   ]
  },
  {
   "cell_type": "code",
   "execution_count": 12,
   "metadata": {},
   "outputs": [],
   "source": [
    "#print(tempvar)"
   ]
  },
  {
   "cell_type": "code",
   "execution_count": 13,
   "metadata": {},
   "outputs": [],
   "source": [
    "#indentation is mandatory without it you will get an error:"
   ]
  },
  {
   "cell_type": "code",
   "execution_count": 14,
   "metadata": {},
   "outputs": [
    {
     "name": "stdout",
     "output_type": "stream",
     "text": [
      "keep up the good work,Shiva\n",
      "keep up the good work,Mujeeb\n",
      "keep up the good work,Rishika\n",
      "keep up the good work,Priyanka\n",
      "keep up the good work,Naveen\n",
      "keep up the good work,Kiran\n"
     ]
    }
   ],
   "source": [
    "for x in students: print(f\"keep up the good work,{x.title()}\")"
   ]
  },
  {
   "cell_type": "code",
   "execution_count": 15,
   "metadata": {},
   "outputs": [
    {
     "name": "stdout",
     "output_type": "stream",
     "text": [
      "keep up the good work,Shiva\n",
      "keep up the good work,Mujeeb\n",
      "keep up the good work,Rishika\n",
      "keep up the good work,Priyanka\n",
      "keep up the good work,Naveen\n",
      "keep up the good work,Kiran\n"
     ]
    }
   ],
   "source": [
    "for ironman in students: print(f\"keep up the good work,{ironman.title()}\")"
   ]
  },
  {
   "cell_type": "code",
   "execution_count": 16,
   "metadata": {},
   "outputs": [],
   "source": [
    "# i want to convey a message: i will be looking forward to recive your practice file of today"
   ]
  },
  {
   "cell_type": "code",
   "execution_count": 17,
   "metadata": {},
   "outputs": [],
   "source": [
    "#writing in the loop:"
   ]
  },
  {
   "cell_type": "code",
   "execution_count": 26,
   "metadata": {},
   "outputs": [
    {
     "name": "stdout",
     "output_type": "stream",
     "text": [
      "keep up the good work,Shiva\n",
      "i will be looking forward to recive your practice file of today,Shiva\n",
      "keep up the good work,Mujeeb\n",
      "i will be looking forward to recive your practice file of today,Mujeeb\n",
      "keep up the good work,Rishika\n",
      "i will be looking forward to recive your practice file of today,Rishika\n",
      "keep up the good work,Priyanka\n",
      "i will be looking forward to recive your practice file of today,Priyanka\n",
      "keep up the good work,Naveen\n",
      "i will be looking forward to recive your practice file of today,Naveen\n",
      "keep up the good work,Kiran\n",
      "i will be looking forward to recive your practice file of today,Kiran\n"
     ]
    }
   ],
   "source": [
    "for x in students: \n",
    " print(f\"keep up the good work,{x.title()}\")\n",
    " print(f\"i will be looking forward to recive your practice file of today,{x.title()}\")"
   ]
  },
  {
   "cell_type": "code",
   "execution_count": 22,
   "metadata": {},
   "outputs": [],
   "source": [
    "#Enhancment of the code:- (you will get output neatly.)"
   ]
  },
  {
   "cell_type": "code",
   "execution_count": 27,
   "metadata": {
    "scrolled": true
   },
   "outputs": [
    {
     "name": "stdout",
     "output_type": "stream",
     "text": [
      "keep up the good work,Shiva\n",
      "i will be looking forward to recive your practice file of today,Shiva.\n",
      "\n",
      "keep up the good work,Mujeeb\n",
      "i will be looking forward to recive your practice file of today,Mujeeb.\n",
      "\n",
      "keep up the good work,Rishika\n",
      "i will be looking forward to recive your practice file of today,Rishika.\n",
      "\n",
      "keep up the good work,Priyanka\n",
      "i will be looking forward to recive your practice file of today,Priyanka.\n",
      "\n",
      "keep up the good work,Naveen\n",
      "i will be looking forward to recive your practice file of today,Naveen.\n",
      "\n",
      "keep up the good work,Kiran\n",
      "i will be looking forward to recive your practice file of today,Kiran.\n",
      "\n"
     ]
    }
   ],
   "source": [
    "for x in students:\n",
    " print(f\"keep up the good work,{x.title()}\")\n",
    " print(f\"i will be looking forward to recive your practice file of today,{x.title()}.\\n\")    "
   ]
  },
  {
   "cell_type": "code",
   "execution_count": 29,
   "metadata": {},
   "outputs": [
    {
     "name": "stdout",
     "output_type": "stream",
     "text": [
      "keep up the good work,Shiva\n",
      "i will be looking forward to recive your practice file of today,Shiva.\n",
      "\n",
      "keep up the good work,Mujeeb\n",
      "i will be looking forward to recive your practice file of today,Mujeeb.\n",
      "\n",
      "keep up the good work,Rishika\n",
      "i will be looking forward to recive your practice file of today,Rishika.\n",
      "\n",
      "keep up the good work,Priyanka\n",
      "i will be looking forward to recive your practice file of today,Priyanka.\n",
      "\n",
      "keep up the good work,Naveen\n",
      "i will be looking forward to recive your practice file of today,Naveen.\n",
      "\n",
      "keep up the good work,Kiran\n",
      "i will be looking forward to recive your practice file of today,Kiran.\n",
      "\n",
      "thank you all of you for showing intrest in learning python\n"
     ]
    }
   ],
   "source": [
    "for x in students:\n",
    " print(f\"keep up the good work,{x.title()}\")\n",
    " print(f\"i will be looking forward to recive your practice file of today,{x.title()}.\\n\")\n",
    "print(\"thank you all of you for showing intrest in learning python\")        #writing out of the loop."
   ]
  },
  {
   "cell_type": "code",
   "execution_count": null,
   "metadata": {},
   "outputs": [],
   "source": []
  }
 ],
 "metadata": {
  "kernelspec": {
   "display_name": "Python 3",
   "language": "python",
   "name": "python3"
  },
  "language_info": {
   "codemirror_mode": {
    "name": "ipython",
    "version": 3
   },
   "file_extension": ".py",
   "mimetype": "text/x-python",
   "name": "python",
   "nbconvert_exporter": "python",
   "pygments_lexer": "ipython3",
   "version": "3.8.3"
  }
 },
 "nbformat": 4,
 "nbformat_minor": 4
}
